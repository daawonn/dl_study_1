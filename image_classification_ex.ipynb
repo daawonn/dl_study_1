{
  "nbformat": 4,
  "nbformat_minor": 0,
  "metadata": {
    "colab": {
      "name": "image_classification_ex.ipynb",
      "provenance": [],
      "collapsed_sections": [],
      "toc_visible": true,
      "authorship_tag": "ABX9TyO25uZYjeXo7lopHPlovXSc",
      "include_colab_link": true
    },
    "kernelspec": {
      "name": "python3",
      "display_name": "Python 3"
    }
  },
  "cells": [
    {
      "cell_type": "markdown",
      "metadata": {
        "id": "view-in-github",
        "colab_type": "text"
      },
      "source": [
        "<a href=\"https://colab.research.google.com/github/daawonn/dl_study_1/blob/master/image_classification_ex.ipynb\" target=\"_parent\"><img src=\"https://colab.research.google.com/assets/colab-badge.svg\" alt=\"Open In Colab\"/></a>"
      ]
    },
    {
      "cell_type": "markdown",
      "metadata": {
        "id": "vLN6l-aigaOl",
        "colab_type": "text"
      },
      "source": [
        "## Keras Image Classification Example "
      ]
    },
    {
      "cell_type": "markdown",
      "metadata": {
        "id": "Guhi4q0UgmRN",
        "colab_type": "text"
      },
      "source": [
        "### data preprocessing"
      ]
    },
    {
      "cell_type": "markdown",
      "metadata": {
        "id": "HDLyToOrSgE_",
        "colab_type": "text"
      },
      "source": [
        "- tensorflow : 딥러닝 라이브러리\n",
        "- numpy : 배열 계산\n",
        "- pandas : 데이터프레임\n",
        "- matplotlib : 시각화 라이브러리"
      ]
    },
    {
      "cell_type": "code",
      "metadata": {
        "id": "1G_t4LmAGu9s",
        "colab_type": "code",
        "outputId": "2de1fb04-d896-42f6-e31f-33628d0c7b84",
        "colab": {
          "base_uri": "https://localhost:8080/",
          "height": 35
        }
      },
      "source": [
        "import tensorflow as tf\n",
        "from tensorflow import keras\n",
        "print(tf.__version__)"
      ],
      "execution_count": 1,
      "outputs": [
        {
          "output_type": "stream",
          "text": [
            "2.2.0\n"
          ],
          "name": "stdout"
        }
      ]
    },
    {
      "cell_type": "code",
      "metadata": {
        "id": "tDY8LHWdGwB7",
        "colab_type": "code",
        "colab": {}
      },
      "source": [
        "import numpy as np\n",
        "import pandas as pd\n",
        "import matplotlib.pyplot as plt"
      ],
      "execution_count": 0,
      "outputs": []
    },
    {
      "cell_type": "markdown",
      "metadata": {
        "id": "DQK_KWWWK1lH",
        "colab_type": "text"
      },
      "source": [
        "- mnist 데이터 셋 가져오기"
      ]
    },
    {
      "cell_type": "code",
      "metadata": {
        "id": "uqcGdqrygItg",
        "colab_type": "code",
        "outputId": "06aa780c-f3ff-4e1d-df54-e98929f80ef5",
        "colab": {
          "base_uri": "https://localhost:8080/",
          "height": 35
        }
      },
      "source": [
        "mnist = keras.datasets.fashion_mnist\n",
        "type(mnist)"
      ],
      "execution_count": 3,
      "outputs": [
        {
          "output_type": "execute_result",
          "data": {
            "text/plain": [
              "module"
            ]
          },
          "metadata": {
            "tags": []
          },
          "execution_count": 3
        }
      ]
    },
    {
      "cell_type": "markdown",
      "metadata": {
        "id": "kYS6x6UJK6p8",
        "colab_type": "text"
      },
      "source": [
        "- 데이터셋을 학습데이터와 테스트데이터로 분할"
      ]
    },
    {
      "cell_type": "code",
      "metadata": {
        "id": "phhNgNf4gK5A",
        "colab_type": "code",
        "outputId": "d40be941-b21b-4f54-8ee3-7af0d9be381e",
        "colab": {
          "base_uri": "https://localhost:8080/",
          "height": 199
        }
      },
      "source": [
        "(X_train, y_train), (X_test, y_test) = mnist.load_data()\n",
        "X_train.shape, y_train.shape"
      ],
      "execution_count": 4,
      "outputs": [
        {
          "output_type": "stream",
          "text": [
            "Downloading data from https://storage.googleapis.com/tensorflow/tf-keras-datasets/train-labels-idx1-ubyte.gz\n",
            "32768/29515 [=================================] - 0s 0us/step\n",
            "Downloading data from https://storage.googleapis.com/tensorflow/tf-keras-datasets/train-images-idx3-ubyte.gz\n",
            "26427392/26421880 [==============================] - 0s 0us/step\n",
            "Downloading data from https://storage.googleapis.com/tensorflow/tf-keras-datasets/t10k-labels-idx1-ubyte.gz\n",
            "8192/5148 [===============================================] - 0s 0us/step\n",
            "Downloading data from https://storage.googleapis.com/tensorflow/tf-keras-datasets/t10k-images-idx3-ubyte.gz\n",
            "4423680/4422102 [==============================] - 0s 0us/step\n"
          ],
          "name": "stdout"
        },
        {
          "output_type": "execute_result",
          "data": {
            "text/plain": [
              "((60000, 28, 28), (60000,))"
            ]
          },
          "metadata": {
            "tags": []
          },
          "execution_count": 4
        }
      ]
    },
    {
      "cell_type": "markdown",
      "metadata": {
        "id": "K2c3e81gLCLc",
        "colab_type": "text"
      },
      "source": [
        "- 클래스 이름 설정"
      ]
    },
    {
      "cell_type": "code",
      "metadata": {
        "id": "gypmuMjagOxx",
        "colab_type": "code",
        "colab": {}
      },
      "source": [
        "class_name = ['top', 'trouser', 'pullover', 'dress', 'coat', 'sendal', 'shirt', 'sneaker', 'bag', 'ankle boot']"
      ],
      "execution_count": 0,
      "outputs": []
    },
    {
      "cell_type": "markdown",
      "metadata": {
        "id": "D5pPL6YULH-M",
        "colab_type": "text"
      },
      "source": [
        "- 데이터 시각화\n"
      ]
    },
    {
      "cell_type": "code",
      "metadata": {
        "id": "FkufcJq5gTRx",
        "colab_type": "code",
        "outputId": "58431d52-6d66-4bb9-e06a-b1685964a7ff",
        "colab": {
          "base_uri": "https://localhost:8080/",
          "height": 283
        }
      },
      "source": [
        "plt.figure()\n",
        "plt.imshow(X_train[0])"
      ],
      "execution_count": 6,
      "outputs": [
        {
          "output_type": "execute_result",
          "data": {
            "text/plain": [
              "<matplotlib.image.AxesImage at 0x7f735eb733c8>"
            ]
          },
          "metadata": {
            "tags": []
          },
          "execution_count": 6
        },
        {
          "output_type": "display_data",
          "data": {
            "image/png": "[encoded data removed]",
            "text/plain": [
              "<Figure size 432x288 with 1 Axes>"
            ]
          },
          "metadata": {
            "tags": [],
            "needs_background": "light"
          }
        }
      ]
    },
    {
      "cell_type": "markdown",
      "metadata": {
        "id": "7Os7-YomLKvE",
        "colab_type": "text"
      },
      "source": [
        "- 데이터 스케일 축소\n",
        "0 ~ 255 의 데이터를 0과 1 사이로 표준화"
      ]
    },
    {
      "cell_type": "code",
      "metadata": {
        "id": "j9KroqOigVZR",
        "colab_type": "code",
        "colab": {}
      },
      "source": [
        "X_train = X_train/255.0\n",
        "X_test = X_test/255.0"
      ],
      "execution_count": 0,
      "outputs": []
    },
    {
      "cell_type": "markdown",
      "metadata": {
        "id": "h2ntcj5bgqvE",
        "colab_type": "text"
      },
      "source": [
        "### build the model with TF2.0"
      ]
    },
    {
      "cell_type": "code",
      "metadata": {
        "id": "VTNi1AefgqGb",
        "colab_type": "code",
        "colab": {}
      },
      "source": [
        "from tensorflow.keras import Sequential\n",
        "from tensorflow.keras.layers import Flatten, Dense"
      ],
      "execution_count": 0,
      "outputs": []
    },
    {
      "cell_type": "markdown",
      "metadata": {
        "id": "U30thDkgLS5c",
        "colab_type": "text"
      },
      "source": [
        "- 모델은 Sequential 타입\n",
        "- 객체에 신경망 구조 구축\n",
        "  - 입력계층에서 Flatten\n",
        "  - Dense 로 이동\n",
        "  - 마지막 Dense가 출력층이 된다\n",
        "  - activation : 활성화 함수 "
      ]
    },
    {
      "cell_type": "code",
      "metadata": {
        "id": "5FSguwFWgX-A",
        "colab_type": "code",
        "colab": {}
      },
      "source": [
        "model = Sequential()\n",
        "model.add(Flatten(input_shape=(28,28)))\n",
        "model.add(Dense(28, activation = 'relu'))\n",
        "model.add(Dense(10, activation = 'softmax'))"
      ],
      "execution_count": 0,
      "outputs": []
    },
    {
      "cell_type": "markdown",
      "metadata": {
        "id": "8jB9DewoLn0M",
        "colab_type": "text"
      },
      "source": [
        "- summary를 이용하여 대략적인 모델의 내부 구조 파악\n",
        "  - Flatten 28*28 = 784의 노드가 한꺼번에 계산\n",
        "  - params : weight 가중치"
      ]
    },
    {
      "cell_type": "code",
      "metadata": {
        "id": "NT1Oz7hyg823",
        "colab_type": "code",
        "outputId": "f190b1a1-475b-4cb0-9df4-f3ccf4d19e39",
        "colab": {
          "base_uri": "https://localhost:8080/",
          "height": 269
        }
      },
      "source": [
        "model.summary()"
      ],
      "execution_count": 10,
      "outputs": [
        {
          "output_type": "stream",
          "text": [
            "Model: \"sequential\"\n",
            "_________________________________________________________________\n",
            "Layer (type)                 Output Shape              Param #   \n",
            "=================================================================\n",
            "flatten (Flatten)            (None, 784)               0         \n",
            "_________________________________________________________________\n",
            "dense (Dense)                (None, 28)                21980     \n",
            "_________________________________________________________________\n",
            "dense_1 (Dense)              (None, 10)                290       \n",
            "=================================================================\n",
            "Total params: 22,270\n",
            "Trainable params: 22,270\n",
            "Non-trainable params: 0\n",
            "_________________________________________________________________\n"
          ],
          "name": "stdout"
        }
      ]
    },
    {
      "cell_type": "markdown",
      "metadata": {
        "id": "YgpUMEajhbpc",
        "colab_type": "text"
      },
      "source": [
        "### model compilation"
      ]
    },
    {
      "cell_type": "markdown",
      "metadata": {
        "id": "XrFlsKvWL69k",
        "colab_type": "text"
      },
      "source": [
        "- optimizer : 손실함수\n",
        "- loss : 손실값 계산 방법\n",
        "- metrics : 학습 진행 중 내부 정보 여기선, 정확도"
      ]
    },
    {
      "cell_type": "code",
      "metadata": {
        "id": "_bKKn3zig_xR",
        "colab_type": "code",
        "colab": {}
      },
      "source": [
        "model.compile(optimizer = 'adam', loss = 'sparse_categorical_crossentropy', metrics = ['accuracy'])"
      ],
      "execution_count": 0,
      "outputs": []
    },
    {
      "cell_type": "markdown",
      "metadata": {
        "id": "PuR8fxdDMG89",
        "colab_type": "text"
      },
      "source": [
        "- 모델 학습 model.fit() 이용"
      ]
    },
    {
      "cell_type": "code",
      "metadata": {
        "id": "ijbtJv3xheFx",
        "colab_type": "code",
        "outputId": "e74abc87-e582-422e-b659-938d252b6807",
        "colab": {
          "base_uri": "https://localhost:8080/",
          "height": 395
        }
      },
      "source": [
        "model.fit(X_train, y_train, epochs = 10)"
      ],
      "execution_count": 12,
      "outputs": [
        {
          "output_type": "stream",
          "text": [
            "Epoch 1/10\n",
            "1875/1875 [==============================] - 3s 2ms/step - loss: 0.5494 - accuracy: 0.8113\n",
            "Epoch 2/10\n",
            "1875/1875 [==============================] - 3s 2ms/step - loss: 0.4173 - accuracy: 0.8545\n",
            "Epoch 3/10\n",
            "1875/1875 [==============================] - 3s 2ms/step - loss: 0.3826 - accuracy: 0.8645\n",
            "Epoch 4/10\n",
            "1875/1875 [==============================] - 3s 2ms/step - loss: 0.3603 - accuracy: 0.8713\n",
            "Epoch 5/10\n",
            "1875/1875 [==============================] - 3s 2ms/step - loss: 0.3440 - accuracy: 0.8763\n",
            "Epoch 6/10\n",
            "1875/1875 [==============================] - 3s 2ms/step - loss: 0.3309 - accuracy: 0.8811\n",
            "Epoch 7/10\n",
            "1875/1875 [==============================] - 3s 2ms/step - loss: 0.3198 - accuracy: 0.8853\n",
            "Epoch 8/10\n",
            "1875/1875 [==============================] - 3s 2ms/step - loss: 0.3119 - accuracy: 0.8872\n",
            "Epoch 9/10\n",
            "1875/1875 [==============================] - 3s 2ms/step - loss: 0.3046 - accuracy: 0.8888\n",
            "Epoch 10/10\n",
            "1875/1875 [==============================] - 3s 2ms/step - loss: 0.2971 - accuracy: 0.8928\n"
          ],
          "name": "stdout"
        },
        {
          "output_type": "execute_result",
          "data": {
            "text/plain": [
              "<tensorflow.python.keras.callbacks.History at 0x7f7358142be0>"
            ]
          },
          "metadata": {
            "tags": []
          },
          "execution_count": 12
        }
      ]
    },
    {
      "cell_type": "markdown",
      "metadata": {
        "id": "ATrM8xyoMNmE",
        "colab_type": "text"
      },
      "source": [
        "- 테스트\n",
        "  - 학습시킨 모델의 성과를 확인\n",
        "  - evaluate : 구축한 신경망의 현재 성능 파악가능"
      ]
    },
    {
      "cell_type": "code",
      "metadata": {
        "id": "r5nl5ozKhgGB",
        "colab_type": "code",
        "outputId": "7ad6d803-e633-4ac3-c027-0a816dd6a977",
        "colab": {
          "base_uri": "https://localhost:8080/",
          "height": 71
        }
      },
      "source": [
        "test_loss, test_acc = model.evaluate(X_test, y_test)\n",
        "print(test_loss)\n",
        "print(test_acc)"
      ],
      "execution_count": 13,
      "outputs": [
        {
          "output_type": "stream",
          "text": [
            "313/313 [==============================] - 0s 1ms/step - loss: 0.3904 - accuracy: 0.8665\n",
            "0.39036932587623596\n",
            "0.8665000200271606\n"
          ],
          "name": "stdout"
        }
      ]
    },
    {
      "cell_type": "markdown",
      "metadata": {
        "id": "TcrelzM0MVKV",
        "colab_type": "text"
      },
      "source": [
        "- 실제 사용"
      ]
    },
    {
      "cell_type": "code",
      "metadata": {
        "id": "wKD-cnXEhrIh",
        "colab_type": "code",
        "outputId": "47b0a706-0666-4b20-e262-c5e4da1015bd",
        "colab": {
          "base_uri": "https://localhost:8080/",
          "height": 109
        }
      },
      "source": [
        "from sklearn.metrics import accuracy_score\n",
        "y_pred = model.predict_classes(X_test)\n",
        "accuracy_score(y_test, y_pred)"
      ],
      "execution_count": 14,
      "outputs": [
        {
          "output_type": "stream",
          "text": [
            "WARNING:tensorflow:From <ipython-input-14-d56938f03509>:2: Sequential.predict_classes (from tensorflow.python.keras.engine.sequential) is deprecated and will be removed after 2021-01-01.\n",
            "Instructions for updating:\n",
            "Please use instead:* `np.argmax(model.predict(x), axis=-1)`,   if your model does multi-class classification   (e.g. if it uses a `softmax` last-layer activation).* `(model.predict(x) > 0.5).astype(\"int32\")`,   if your model does binary classification   (e.g. if it uses a `sigmoid` last-layer activation).\n"
          ],
          "name": "stdout"
        },
        {
          "output_type": "execute_result",
          "data": {
            "text/plain": [
              "0.8665"
            ]
          },
          "metadata": {
            "tags": []
          },
          "execution_count": 14
        }
      ]
    },
    {
      "cell_type": "code",
      "metadata": {
        "id": "0nhHohMUiifR",
        "colab_type": "code",
        "colab": {}
      },
      "source": [
        ""
      ],
      "execution_count": 0,
      "outputs": []
    }
  ]
}